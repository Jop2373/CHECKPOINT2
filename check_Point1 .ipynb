{
 "cells": [
  {
   "cell_type": "code",
   "execution_count": 1,
   "id": "a346807c",
   "metadata": {},
   "outputs": [
    {
     "name": "stdout",
     "output_type": "stream",
     "text": [
      "mets ton prénom ici: 5\n",
      "mets ton nom ici: 5\n",
      "5   5\n"
     ]
    }
   ],
   "source": [
    "# QuestionN°1\n",
    "prenom = input(\"mets ton prénom ici: \")\n",
    "nom = input(\"mets ton nom ici: \")\n",
    "print(nom,\" \",prenom)\n"
   ]
  },
  {
   "cell_type": "code",
   "execution_count": 2,
   "id": "2b127663",
   "metadata": {},
   "outputs": [
    {
     "name": "stdout",
     "output_type": "stream",
     "text": [
      "mets un chiffre:5\n",
      "615\n"
     ]
    },
    {
     "data": {
      "text/plain": [
       "'autre solution\\n\\nn=input(\"mets un chiffre:\")\\na= n\\nb= n+n\\nc= n+n+n\\nprint(int(a)+int(b)+int(c))\\n'"
      ]
     },
     "execution_count": 2,
     "metadata": {},
     "output_type": "execute_result"
    }
   ],
   "source": [
    "#QuestionN°2\n",
    "# 615 (5+55+555)\n",
    "\n",
    "n=int(input(\"mets un chiffre:\"))\n",
    "nn = 11*n\n",
    "nnn=111*n\n",
    "print(n+nn+nnn)\n",
    "\n",
    "\"\"\"autre solution\n",
    "\n",
    "n=input(\"mets un chiffre:\")\n",
    "a= n\n",
    "b= n+n\n",
    "c= n+n+n\n",
    "print(int(a)+int(b)+int(c))\n",
    "\"\"\""
   ]
  },
  {
   "cell_type": "code",
   "execution_count": 3,
   "id": "225d6b6e",
   "metadata": {},
   "outputs": [
    {
     "name": "stdout",
     "output_type": "stream",
     "text": [
      "mettre un nombre: 6\n",
      "le nombre est pair\n"
     ]
    }
   ],
   "source": [
    "# QuestionN°3: savoir si une nombre entré par un utilsateur est par ou impair\n",
    "\n",
    "nombre =int(input(\"mettre un nombre: \")) # on transforme en entier la chaine de caractère donné par le imput\n",
    "\n",
    "if nombre%2==0:    # on a utilisé le modulo qui donne le reste: ainsi si le reste est nul, on deduit que le chiffre est pair\n",
    "    \n",
    "    print(\"le nombre est pair\")\n",
    "else:\n",
    "    print(\"le nombre est impair\")"
   ]
  },
  {
   "cell_type": "code",
   "execution_count": 6,
   "id": "839759d9",
   "metadata": {},
   "outputs": [
    {
     "name": "stdout",
     "output_type": "stream",
     "text": [
      "[2002, 2009, 2016, 2023, 2037, 2044, 2051, 2058, 2072, 2079, 2086, 2093, 2107, 2114, 2121, 2128, 2142, 2149, 2156, 2163, 2177, 2184, 2191, 2198, 2212, 2219, 2226, 2233, 2247, 2254, 2261, 2268, 2282, 2289, 2296, 2303, 2317, 2324, 2331, 2338, 2352, 2359, 2366, 2373, 2387, 2394, 2401, 2408, 2422, 2429, 2436, 2443, 2457, 2464, 2471, 2478, 2492, 2499, 2506, 2513, 2527, 2534, 2541, 2548, 2562, 2569, 2576, 2583, 2597, 2604, 2611, 2618, 2632, 2639, 2646, 2653, 2667, 2674, 2681, 2688, 2702, 2709, 2716, 2723, 2737, 2744, 2751, 2758, 2772, 2779, 2786, 2793, 2807, 2814, 2821, 2828, 2842, 2849, 2856, 2863, 2877, 2884, 2891, 2898, 2912, 2919, 2926, 2933, 2947, 2954, 2961, 2968, 2982, 2989, 2996, 3003, 3017, 3024, 3031, 3038, 3052, 3059, 3066, 3073, 3087, 3094, 3101, 3108, 3122, 3129, 3136, 3143, 3157, 3164, 3171, 3178, 3192, 3199]\n"
     ]
    }
   ],
   "source": [
    "# QuestionN°4\n",
    "\n",
    "z=[i for i in range(2000,3201) if i%7==0 and i%5!=0]\n",
    "print(z)  \n",
    "\n",
    "    \n",
    "        "
   ]
  },
  {
   "cell_type": "code",
   "execution_count": 7,
   "id": "7f6af0de",
   "metadata": {},
   "outputs": [
    {
     "name": "stdout",
     "output_type": "stream",
     "text": [
      "8\n",
      "40320\n"
     ]
    }
   ],
   "source": [
    "# Question5: Factorielle\n",
    "\n",
    "i=int(input())\n",
    "\n",
    "if i==0:\n",
    "    print (1)\n",
    "\n",
    "else: \n",
    "    f=1\n",
    "    for i in range(2,i+1):\n",
    "        f =f*i\n",
    "    print (f)\n",
    "            "
   ]
  },
  {
   "cell_type": "code",
   "execution_count": 8,
   "id": "1c17b694",
   "metadata": {},
   "outputs": [
    {
     "name": "stdout",
     "output_type": "stream",
     "text": [
      "hlota\n"
     ]
    }
   ],
   "source": [
    "# Question N°6\n",
    "\n",
    "# string =\"hello team »; Le résultat devrait être : hlota\n",
    "# fonction slite (debut,fin,pas)\n",
    "\n",
    "lettre1= \"hello team\"\n",
    "lettre2= lettre1[slice(0,11,2)]\n",
    "print(lettre2)"
   ]
  },
  {
   "cell_type": "code",
   "execution_count": 19,
   "id": "51eb6d5c",
   "metadata": {},
   "outputs": [
    {
     "name": "stdout",
     "output_type": "stream",
     "text": [
      "l'escompte obtenue,depend du prix,entrée ici votre prix svp:200\n",
      "le prix est de : 140.0\n"
     ]
    }
   ],
   "source": [
    "# Question n° 7\n",
    "\n",
    "Prix = int(input(\"l'escompte obtenue,depend du prix,entrée ici votre prix svp:\"))\n",
    "            \n",
    "\n",
    "if Prix >= 500:\n",
    "   print(\"le prix est de :\",500*0.5)\n",
    "    \n",
    "elif 200 <= Prix < 500 :\n",
    "    print(\"le prix est de :\",Prix*0.7)\n",
    "    \n",
    "else:\n",
    "    Prix < 200\n",
    "    print(\"le prix est de :\",Prix*0.9)\n",
    "           "
   ]
  },
  {
   "cell_type": "code",
   "execution_count": null,
   "id": "ea6fa479",
   "metadata": {},
   "outputs": [],
   "source": []
  },
  {
   "cell_type": "code",
   "execution_count": null,
   "id": "28fedc7d",
   "metadata": {},
   "outputs": [],
   "source": []
  }
 ],
 "metadata": {
  "kernelspec": {
   "display_name": "Python 3 (ipykernel)",
   "language": "python",
   "name": "python3"
  },
  "language_info": {
   "codemirror_mode": {
    "name": "ipython",
    "version": 3
   },
   "file_extension": ".py",
   "mimetype": "text/x-python",
   "name": "python",
   "nbconvert_exporter": "python",
   "pygments_lexer": "ipython3",
   "version": "3.9.13"
  }
 },
 "nbformat": 4,
 "nbformat_minor": 5
}
